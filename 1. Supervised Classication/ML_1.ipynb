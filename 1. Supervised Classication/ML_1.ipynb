{
 "cells": [
  {
   "cell_type": "markdown",
   "metadata": {},
   "source": [
    "# Example 1: Classification"
   ]
  },
  {
   "cell_type": "markdown",
   "metadata": {},
   "source": [
    "## Data & libraries"
   ]
  },
  {
   "cell_type": "markdown",
   "metadata": {},
   "source": [
    "### Libraries"
   ]
  },
  {
   "cell_type": "code",
   "execution_count": 3,
   "metadata": {},
   "outputs": [],
   "source": [
    "# Data manipulation\n",
    "# ==============================================================================\n",
    "\n",
    "import pandas as pd\n",
    "import numpy as np\n",
    "import operator\n",
    "from joblib import dump\n",
    "import os \n",
    "\n",
    "# Plots\n",
    "# ==============================================================================\n",
    "import matplotlib.pyplot as plt\n",
    "plt.style.use('fivethirtyeight')\n",
    "plt.rcParams['lines.linewidth'] = 1.5\n",
    "plt.rcParams['font.size'] = 10\n",
    "\n",
    "from sklearn.model_selection import train_test_split, learning_curve, validation_curve\n",
    "from sklearn.linear_model import LinearRegression\n",
    "from sklearn.metrics import mean_squared_error\n",
    "\n",
    "# Modeling \n",
    "# ==============================================================================\n",
    "\n",
    "from sklearn.model_selection import train_test_split, learning_curve, validation_curve\n",
    "from sklearn.linear_model import LinearRegression\n",
    "from sklearn.metrics import mean_squared_error\n",
    "\n",
    "# Warnings configuration\n",
    "# ==============================================================================\n",
    "import warnings\n",
    "warnings.filterwarnings('once')"
   ]
  },
  {
   "cell_type": "markdown",
   "metadata": {},
   "source": [
    "### Import Data"
   ]
  },
  {
   "cell_type": "code",
   "execution_count": 10,
   "metadata": {},
   "outputs": [
    {
     "name": "stdout",
     "output_type": "stream",
     "text": [
      "   Pregnancies     Glucose  BloodPressure  SkinThickness     Insulin  \\\n",
      "0            2  115.863387      56.410731      24.336736   94.385783   \n",
      "1            2   92.490122      70.615520      23.443591  138.652426   \n",
      "2            1   88.141469      63.262618      23.404364  149.358082   \n",
      "3            2  108.453101      67.793632      20.751580  108.751638   \n",
      "4            1  127.849443      94.725685      22.603078   25.269987   \n",
      "\n",
      "         BMI  DiabetesPedigreeFunction        Age  Diagnosis  \n",
      "0  26.455940                  0.272682  20.100494          0  \n",
      "1  23.910167                  0.665160  44.912281          0  \n",
      "2  21.948250                  0.676022  48.247873          1  \n",
      "3  24.209304                  0.289636  42.749868          0  \n",
      "4  32.997477                  0.601315  32.797789          0  \n"
     ]
    }
   ],
   "source": [
    "# Set the working directory\n",
    "\n",
    "workspace_directory = \"/Users/oskyroski/DataScience/MachineLearning/1. Supervised Classication\"\n",
    "os.chdir(workspace_directory)\n",
    "\n",
    "# Load the CSV file\n",
    "diabetes_data = pd.read_csv(\"Diabetes_prediction.csv\")\n",
    "\n",
    "print(diabetes_data.head())"
   ]
  },
  {
   "cell_type": "markdown",
   "metadata": {},
   "source": [
    "## 0. Understand the business\n",
    "\n",
    "In the context of healthcare, the early detection and accurate diagnosis of diabetes are critical for effective disease management and improved patient outcomes. Monitoring physiological variables such as glucose levels, insulin, body mass index (BMI), blood pressure, and others plays a pivotal role in understanding an individual’s risk profile for diabetes. Machine learning models can leverage these variables to identify patterns and associations that might not be immediately apparent to healthcare professionals. By systematically analyzing these data points, the models can predict the likelihood of diabetes onset, enabling preventive measures or early treatment. This proactive approach can significantly reduce the burden of the disease on patients by potentially preventing complications, decreasing the need for invasive treatments, and lowering healthcare costs. Effective predictive modeling, thus, stands as a powerful tool in modern medicine, offering a data-driven pathway to enhance diabetes care and management."
   ]
  },
  {
   "cell_type": "markdown",
   "metadata": {},
   "source": [
    "## 1. Define the problem\n",
    "\n",
    "### Data Description\n",
    "\n",
    "### Objective\n",
    "\n",
    "### Modeling Approaches"
   ]
  },
  {
   "cell_type": "markdown",
   "metadata": {},
   "source": [
    "## 2. Prepare the Data"
   ]
  },
  {
   "cell_type": "markdown",
   "metadata": {},
   "source": [
    "## 3. Choose a Model(s)"
   ]
  },
  {
   "cell_type": "markdown",
   "metadata": {},
   "source": [
    "## 4. Train the Model"
   ]
  },
  {
   "cell_type": "markdown",
   "metadata": {},
   "source": [
    "## 5. Evaluate the Model"
   ]
  },
  {
   "cell_type": "markdown",
   "metadata": {},
   "source": [
    "## 6. Parameter Tuning"
   ]
  },
  {
   "cell_type": "markdown",
   "metadata": {},
   "source": [
    "## 7. Make Prediction"
   ]
  },
  {
   "cell_type": "markdown",
   "metadata": {},
   "source": [
    "## 8.ML Ops"
   ]
  },
  {
   "cell_type": "markdown",
   "metadata": {},
   "source": [
    "## Session information"
   ]
  },
  {
   "cell_type": "code",
   "execution_count": null,
   "metadata": {},
   "outputs": [],
   "source": [
    "import session_info\n",
    "session_info.show(html=False)"
   ]
  }
 ],
 "metadata": {
  "kernelspec": {
   "display_name": "Python 3",
   "language": "python",
   "name": "python3"
  },
  "language_info": {
   "codemirror_mode": {
    "name": "ipython",
    "version": 3
   },
   "file_extension": ".py",
   "mimetype": "text/x-python",
   "name": "python",
   "nbconvert_exporter": "python",
   "pygments_lexer": "ipython3",
   "version": "3.11.6"
  }
 },
 "nbformat": 4,
 "nbformat_minor": 2
}
